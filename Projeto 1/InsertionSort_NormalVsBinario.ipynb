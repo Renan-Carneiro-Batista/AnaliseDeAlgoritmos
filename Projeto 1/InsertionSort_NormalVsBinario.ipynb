{
 "cells": [
  {
   "cell_type": "markdown",
   "id": "5c58d338",
   "metadata": {},
   "source": [
    "## Projeto 1 - Análise de Algoritmos\n",
    "\n",
    "### Equipe: \n",
    "    Pedro Ivo Penha\n",
    "    Renan Carneiro Batista\n",
    "\n",
    "### Resolução da Questão 8\n",
    "    Insertion Sort comparado com o Insertion Sort com busca binária da Seção 4."
   ]
  },
  {
   "cell_type": "markdown",
   "id": "e33e4863",
   "metadata": {},
   "source": [
    "***\n",
    "#### Importar as Bibliotecas Necessárias"
   ]
  },
  {
   "cell_type": "code",
   "execution_count": 1,
   "id": "feb1389f",
   "metadata": {},
   "outputs": [],
   "source": [
    "import matplotlib.pyplot as plt\n",
    "import pandas as pd\n",
    "import numpy as np\n",
    "import time"
   ]
  },
  {
   "cell_type": "markdown",
   "id": "0aaa8a2a",
   "metadata": {},
   "source": [
    "#### Função Busca Binária"
   ]
  },
  {
   "cell_type": "code",
   "execution_count": 2,
   "id": "0ceb7db7",
   "metadata": {},
   "outputs": [],
   "source": [
    " def buscaBinaria(array, key, start, end):\n",
    "    if end - start <= 1:\n",
    "        if key < array[start]:\n",
    "            return start - 1\n",
    "        else:\n",
    "            return start\n",
    " \n",
    "    mid = (start + end)//2\n",
    "    if array[mid] < key:\n",
    "        return buscaBinaria(array, key, mid, end)\n",
    "    elif array[mid] > key:\n",
    "        return buscaBinaria(array, key, start, mid)\n",
    "    else:\n",
    "        return mid "
   ]
  },
  {
   "cell_type": "markdown",
   "id": "b5f29785",
   "metadata": {},
   "source": [
    "#### Função Insertion Sort Binário"
   ]
  },
  {
   "cell_type": "code",
   "execution_count": 3,
   "id": "c67bfc9e",
   "metadata": {},
   "outputs": [],
   "source": [
    "def insertionSortBinario(array):\n",
    "    TempoInicial = time.time()\n",
    "\n",
    "    for i in range(1, len(array)):\n",
    "        temp = array[i]\n",
    "        pos = buscaBinaria(array, temp, 0, i) + 1\n",
    " \n",
    "        for k in range(i, pos, -1):\n",
    "            array[k] = array[k - 1]\n",
    " \n",
    "        array[pos] = temp\n",
    "    \n",
    "    TempoFinal = time.time()\n",
    "    TempoTotal = TempoFinal - TempoInicial\n",
    "    \n",
    "    row[2] = TempoTotal\n",
    "    \n",
    "    print(\"\\n--== Insertion Sort Binário ==--\")\n",
    "    print(\"Tempo de execução:\", TempoTotal, \"segundos.\")\n",
    "    \n",
    "    return array"
   ]
  },
  {
   "cell_type": "markdown",
   "id": "45c59a10",
   "metadata": {},
   "source": [
    "#### Função Insertion Sort Normal"
   ]
  },
  {
   "cell_type": "code",
   "execution_count": 4,
   "id": "d23c350d",
   "metadata": {},
   "outputs": [],
   "source": [
    "def insertionSort(array):\n",
    "    TempoInicial = time.time()\n",
    "    \n",
    "    for i in range(1, len(array)):\n",
    "        key = array[i]\n",
    "        j = i - 1\n",
    "        \n",
    "        while j >= 0 and key < array[j]:\n",
    "            array[j+1] = array[j]\n",
    "            j -= 1\n",
    "        array[j+1] = key\n",
    "    \n",
    "    TempoFinal = time.time()\n",
    "    TempoTotal = TempoFinal - TempoInicial\n",
    "    \n",
    "    row[1] = TempoTotal\n",
    "    \n",
    "    print(\"\\n--== Insertion Sort Normal ==--\")\n",
    "    print(\"Tempo de execução:\", TempoTotal, \"segundos.\")\n",
    "    \n",
    "    return array"
   ]
  },
  {
   "cell_type": "markdown",
   "id": "bafbe553",
   "metadata": {},
   "source": [
    "#### Gerar um tamanho para o array e criar um data frame vazio para armazenar as comparações"
   ]
  },
  {
   "cell_type": "code",
   "execution_count": 5,
   "id": "221c2039",
   "metadata": {},
   "outputs": [],
   "source": [
    "tamanhoArray = np.random.randint(10, 10000, size=(10))\n",
    "comp_df = pd.DataFrame()"
   ]
  },
  {
   "cell_type": "markdown",
   "id": "03bf7564",
   "metadata": {},
   "source": [
    "#### Executar as duas funções Insertion Sort"
   ]
  },
  {
   "cell_type": "code",
   "execution_count": 6,
   "id": "946c88f1",
   "metadata": {
    "scrolled": false
   },
   "outputs": [
    {
     "name": "stdout",
     "output_type": "stream",
     "text": [
      "\n",
      "Vetor Desordenado:  [-6552 -6392  3702 ... -6117  3782  1733]\n",
      "\n",
      "--== Insertion Sort Normal ==--\n",
      "Tempo de execução: 1.8673062324523926 segundos.\n",
      "Vetor Ordenado:  [-7381 -7376 -7375 ...  7367  7368  7380]\n",
      "\n",
      "\n",
      "\n",
      "--== Insertion Sort Binário ==--\n",
      "Tempo de execução: 0.0156252384185791 segundos.\n",
      "Vetor Ordenado:  [-7381 -7376 -7375 ...  7367  7368  7380]\n",
      "\n",
      "\n",
      "\n",
      "Vetor Desordenado:  [ 9260 -2494 14636 ... 12272 18879 -3469]\n",
      "\n",
      "--== Insertion Sort Normal ==--\n",
      "Tempo de execução: 13.269150257110596 segundos.\n",
      "Vetor Ordenado:  [-19450 -19449 -19448 ...  19447  19448  19450]\n",
      "\n",
      "\n",
      "\n",
      "--== Insertion Sort Binário ==--\n",
      "Tempo de execução: 0.0624995231628418 segundos.\n",
      "Vetor Ordenado:  [-19450 -19449 -19448 ...  19447  19448  19450]\n",
      "\n",
      "\n",
      "\n",
      "Vetor Desordenado:  [ 2682 -1005 -2003 ... -1471 -3542 -2272]\n",
      "\n",
      "--== Insertion Sort Normal ==--\n",
      "Tempo de execução: 0.496706485748291 segundos.\n",
      "Vetor Ordenado:  [-3707 -3705 -3681 ...  3697  3701  3705]\n",
      "\n",
      "\n",
      "\n",
      "--== Insertion Sort Binário ==--\n",
      "Tempo de execução: 0.01562809944152832 segundos.\n",
      "Vetor Ordenado:  [-3707 -3705 -3681 ...  3697  3701  3705]\n",
      "\n",
      "\n",
      "\n",
      "Vetor Desordenado:  [ 1480 -1379 -1433 ...  1580 -2865 -2250]\n",
      "\n",
      "--== Insertion Sort Normal ==--\n",
      "Tempo de execução: 0.3513202667236328 segundos.\n",
      "Vetor Ordenado:  [-3142 -3140 -3138 ...  3119  3126  3138]\n",
      "\n",
      "\n",
      "\n",
      "--== Insertion Sort Binário ==--\n",
      "Tempo de execução: 0.007997751235961914 segundos.\n",
      "Vetor Ordenado:  [-3142 -3140 -3138 ...  3119  3126  3138]\n",
      "\n",
      "\n",
      "\n",
      "Vetor Desordenado:  [-2736 10340  1364 ... -7884  6344  4063]\n",
      "\n",
      "--== Insertion Sort Normal ==--\n",
      "Tempo de execução: 4.304764986038208 segundos.\n",
      "Vetor Ordenado:  [-10949 -10949 -10948 ...  10945  10946  10948]\n",
      "\n",
      "\n",
      "\n",
      "--== Insertion Sort Binário ==--\n",
      "Tempo de execução: 0.04685378074645996 segundos.\n",
      "Vetor Ordenado:  [-10949 -10949 -10948 ...  10945  10946  10948]\n",
      "\n",
      "\n",
      "\n",
      "Vetor Desordenado:  [ -3593  14288 -10931 ...  -4536   1171  14005]\n",
      "\n",
      "--== Insertion Sort Normal ==--\n",
      "Tempo de execução: 9.380545854568481 segundos.\n",
      "Vetor Ordenado:  [-16266 -16265 -16253 ...  16263  16265  16265]\n",
      "\n",
      "\n",
      "\n",
      "--== Insertion Sort Binário ==--\n",
      "Tempo de execução: 0.04689764976501465 segundos.\n",
      "Vetor Ordenado:  [-16266 -16265 -16253 ...  16263  16265  16265]\n",
      "\n",
      "\n",
      "\n",
      "Vetor Desordenado:  [-8039 -9231  8198 ... -1447 13124 -5162]\n",
      "\n",
      "--== Insertion Sort Normal ==--\n",
      "Tempo de execução: 7.255648612976074 segundos.\n",
      "Vetor Ordenado:  [-13574 -13565 -13554 ...  13551  13557  13571]\n",
      "\n",
      "\n",
      "\n",
      "--== Insertion Sort Binário ==--\n",
      "Tempo de execução: 0.0468754768371582 segundos.\n",
      "Vetor Ordenado:  [-13574 -13565 -13554 ...  13551  13557  13571]\n",
      "\n",
      "\n",
      "\n",
      "Vetor Desordenado:  [ -877  -116   559 ...   -51 -2106    85]\n",
      "\n",
      "--== Insertion Sort Normal ==--\n",
      "Tempo de execução: 0.17187047004699707 segundos.\n",
      "Vetor Ordenado:  [-2207 -2204 -2202 ...  2198  2202  2204]\n",
      "\n",
      "\n",
      "\n",
      "--== Insertion Sort Binário ==--\n",
      "Tempo de execução: 0.012123346328735352 segundos.\n",
      "Vetor Ordenado:  [-2207 -2204 -2202 ...  2198  2202  2204]\n",
      "\n",
      "\n",
      "\n",
      "Vetor Desordenado:  [-3626  4229 -3295 ...  -889  1847 -3737]\n",
      "\n",
      "--== Insertion Sort Normal ==--\n",
      "Tempo de execução: 0.72798752784729 segundos.\n",
      "Vetor Ordenado:  [-4506 -4503 -4501 ...  4497  4506  4507]\n",
      "\n",
      "\n",
      "\n",
      "--== Insertion Sort Binário ==--\n",
      "Tempo de execução: 0.008097410202026367 segundos.\n",
      "Vetor Ordenado:  [-4506 -4503 -4501 ...  4497  4506  4507]\n",
      "\n",
      "\n",
      "\n",
      "Vetor Desordenado:  [-440  502  423  385 -281 -243  587 -362 -454 -431  515 -279 -677  618\n",
      " -713  170 -184  482 -571 -122  391  605 -824 -179 -271  148  171 -316\n",
      "  776 -330 -762  294  157  538  664 -604  709  780  743  582 -526  727\n",
      "  285  163  440 -678 -138  592  842  243 -111 -508  748  128  648 -619\n",
      " -513  -80   21  618  -36 -562  509  720 -149 -759  442   23  344  733\n",
      " -640 -763 -328  609 -286  -55  -95  436  597  -99 -639 -344 -269   84\n",
      " -207  136   36  300  535  541  222  318  -36  -12  515  553  716  458\n",
      "  -92 -259 -439 -738  398 -500  216 -365  325 -545 -706 -829  160   30\n",
      " -475  104 -126  820  693  601  241 -775  136  849 -833 -541 -408 -158\n",
      "  841 -697  -39  258  117 -610  742  545 -719 -504 -235 -717 -219  541\n",
      "  577  823 -758  566  171  509 -761 -328  266  782   83  211   95 -447\n",
      "  674  626 -721 -132 -152   33 -784 -488 -405 -627  640 -587 -334  541\n",
      "  722 -699 -221 -108 -364 -706  449 -347 -110 -826 -304    6  709  184\n",
      "  345  646 -312  778  574   69  469  205    2  153 -132 -524 -283  489\n",
      "  150  711  563 -216   43 -736  430  236  447  -74  -62  757  229  207\n",
      "  765   79 -160 -264  375 -276  768  801  227   53 -362 -333  -35 -283\n",
      " -500  676 -691  475 -618 -748 -181 -313  -90  573  273  328 -457  -38\n",
      " -635  -79  697 -741 -605  303 -555 -464  244  379  494  250 -567 -294\n",
      "  805  175  723   -7 -222  224  454  405 -846  789   72  649  475  696\n",
      " -323  -27 -471 -167  134  511 -848  160 -529 -216  708  -87   20 -565\n",
      "  -83  775  111  310  286 -187  297  208 -208  595   -2 -146 -669 -523\n",
      " -609   43  650  459 -480  523  586 -706 -599 -466  574  393  -11  823\n",
      "  346  457  774  760  383 -660 -659  730  359  315  842 -547 -501  497\n",
      " -206  697 -595  665 -296  218 -196 -158  709 -444  786  290   -4  806\n",
      " -168  654 -362 -226  517 -379  758  455 -346   26 -264 -155 -694 -511\n",
      "  800 -210  812 -323  787  264 -495   56  528  198  113 -228  651  493\n",
      "  783  440 -109 -129   95  621  -41  463 -484  787 -501 -545 -850 -636\n",
      " -211 -657 -724  583  527 -702  507  572 -255   80  -44 -658  -83  183\n",
      "  506 -619   -5  174 -660 -403 -841   93  721   33    0  696  285  830\n",
      "  710  542  328 -353 -193 -494  -14  494  412  514 -741 -150   19 -138\n",
      "  359  562   44 -411 -295]\n",
      "\n",
      "--== Insertion Sort Normal ==--\n",
      "Tempo de execução: 0.03125643730163574 segundos.\n",
      "Vetor Ordenado:  [-850 -848 -846 -841 -833 -829 -826 -824 -784 -775 -763 -762 -761 -759\n",
      " -758 -748 -741 -741 -738 -736 -724 -721 -719 -717 -713 -706 -706 -706\n",
      " -702 -699 -697 -694 -691 -678 -677 -669 -660 -660 -659 -658 -657 -640\n",
      " -639 -636 -635 -627 -619 -619 -618 -610 -609 -605 -604 -599 -595 -587\n",
      " -571 -567 -565 -562 -555 -547 -545 -545 -541 -529 -526 -524 -523 -513\n",
      " -511 -508 -504 -501 -501 -500 -500 -495 -494 -488 -484 -480 -475 -471\n",
      " -466 -464 -457 -454 -447 -444 -440 -439 -431 -411 -408 -405 -403 -379\n",
      " -365 -364 -362 -362 -362 -353 -347 -346 -344 -334 -333 -330 -328 -328\n",
      " -323 -323 -316 -313 -312 -304 -296 -295 -294 -286 -283 -283 -281 -279\n",
      " -276 -271 -269 -264 -264 -259 -255 -243 -235 -228 -226 -222 -221 -219\n",
      " -216 -216 -211 -210 -208 -207 -206 -196 -193 -187 -184 -181 -179 -168\n",
      " -167 -160 -158 -158 -155 -152 -150 -149 -146 -138 -138 -132 -132 -129\n",
      " -126 -122 -111 -110 -109 -108  -99  -95  -92  -90  -87  -83  -83  -80\n",
      "  -79  -74  -62  -55  -44  -41  -39  -38  -36  -36  -35  -27  -14  -12\n",
      "  -11   -7   -5   -4   -2    0    2    6   19   20   21   23   26   30\n",
      "   33   33   36   43   43   44   53   56   69   72   79   80   83   84\n",
      "   93   95   95  104  111  113  117  128  134  136  136  148  150  153\n",
      "  157  160  160  163  170  171  171  174  175  183  184  198  205  207\n",
      "  208  211  216  218  222  224  227  229  236  241  243  244  250  258\n",
      "  264  266  273  285  285  286  290  294  297  300  303  310  315  318\n",
      "  325  328  328  344  345  346  359  359  375  379  383  385  391  393\n",
      "  398  405  412  423  430  436  440  440  442  447  449  454  455  457\n",
      "  458  459  463  469  475  475  482  489  493  494  494  497  502  506\n",
      "  507  509  509  511  514  515  515  517  523  527  528  535  538  541\n",
      "  541  541  542  545  553  562  563  566  572  573  574  574  577  582\n",
      "  583  586  587  592  595  597  601  605  609  618  618  621  626  640\n",
      "  646  648  649  650  651  654  664  665  674  676  693  696  696  697\n",
      "  697  708  709  709  709  710  711  716  720  721  722  723  727  730\n",
      "  733  742  743  748  757  758  760  765  768  774  775  776  778  780\n",
      "  782  783  786  787  787  789  800  801  805  806  812  820  823  823\n",
      "  830  841  842  842  849]\n",
      "\n",
      "\n",
      "\n",
      "--== Insertion Sort Binário ==--\n",
      "Tempo de execução: 0.0 segundos.\n",
      "Vetor Ordenado:  [-850 -848 -846 -841 -833 -829 -826 -824 -784 -775 -763 -762 -761 -759\n",
      " -758 -748 -741 -741 -738 -736 -724 -721 -719 -717 -713 -706 -706 -706\n",
      " -702 -699 -697 -694 -691 -678 -677 -669 -660 -660 -659 -658 -657 -640\n",
      " -639 -636 -635 -627 -619 -619 -618 -610 -609 -605 -604 -599 -595 -587\n",
      " -571 -567 -565 -562 -555 -547 -545 -545 -541 -529 -526 -524 -523 -513\n",
      " -511 -508 -504 -501 -501 -500 -500 -495 -494 -488 -484 -480 -475 -471\n",
      " -466 -464 -457 -454 -447 -444 -440 -439 -431 -411 -408 -405 -403 -379\n",
      " -365 -364 -362 -362 -362 -353 -347 -346 -344 -334 -333 -330 -328 -328\n",
      " -323 -323 -316 -313 -312 -304 -296 -295 -294 -286 -283 -283 -281 -279\n",
      " -276 -271 -269 -264 -264 -259 -255 -243 -235 -228 -226 -222 -221 -219\n",
      " -216 -216 -211 -210 -208 -207 -206 -196 -193 -187 -184 -181 -179 -168\n",
      " -167 -160 -158 -158 -155 -152 -150 -149 -146 -138 -138 -132 -132 -129\n",
      " -126 -122 -111 -110 -109 -108  -99  -95  -92  -90  -87  -83  -83  -80\n",
      "  -79  -74  -62  -55  -44  -41  -39  -38  -36  -36  -35  -27  -14  -12\n",
      "  -11   -7   -5   -4   -2    0    2    6   19   20   21   23   26   30\n",
      "   33   33   36   43   43   44   53   56   69   72   79   80   83   84\n",
      "   93   95   95  104  111  113  117  128  134  136  136  148  150  153\n",
      "  157  160  160  163  170  171  171  174  175  183  184  198  205  207\n",
      "  208  211  216  218  222  224  227  229  236  241  243  244  250  258\n",
      "  264  266  273  285  285  286  290  294  297  300  303  310  315  318\n",
      "  325  328  328  344  345  346  359  359  375  379  383  385  391  393\n",
      "  398  405  412  423  430  436  440  440  442  447  449  454  455  457\n",
      "  458  459  463  469  475  475  482  489  493  494  494  497  502  506\n",
      "  507  509  509  511  514  515  515  517  523  527  528  535  538  541\n",
      "  541  541  542  545  553  562  563  566  572  573  574  574  577  582\n",
      "  583  586  587  592  595  597  601  605  609  618  618  621  626  640\n",
      "  646  648  649  650  651  654  664  665  674  676  693  696  696  697\n",
      "  697  708  709  709  709  710  711  716  720  721  722  723  727  730\n",
      "  733  742  743  748  757  758  760  765  768  774  775  776  778  780\n",
      "  782  783  786  787  787  789  800  801  805  806  812  820  823  823\n",
      "  830  841  842  842  849]\n",
      "\n",
      "\n"
     ]
    }
   ],
   "source": [
    "for i in range(len(tamanhoArray)):\n",
    "    array = np.random.randint(-2*tamanhoArray[i], 2*tamanhoArray[i], size=(tamanhoArray[i]))\n",
    "    \n",
    "    row = np.empty(3)\n",
    "    row[0] = len(array)\n",
    "    \n",
    "    print(\"\\nVetor Desordenado: \", array)\n",
    "    print(\"Vetor Ordenado: \", insertionSort(array))\n",
    "    print(\"\\n\")\n",
    "\n",
    "    print(\"Vetor Ordenado: \", insertionSortBinario(array))\n",
    "    print(\"\\n\") \n",
    "    \n",
    "    comp_df = pd.concat([comp_df, pd.DataFrame(row).T])\n",
    "    del(row)"
   ]
  },
  {
   "cell_type": "markdown",
   "id": "ed7d5616",
   "metadata": {},
   "source": [
    "#### Mudar o nome das colunas do data frame"
   ]
  },
  {
   "cell_type": "code",
   "execution_count": 7,
   "id": "19aa7600",
   "metadata": {},
   "outputs": [],
   "source": [
    "comp_df = comp_df.rename({0: 'Tamanho da Entrada', 1: 'Insertion Sort Normal', 2: 'Insertion Sort Binário'}, axis=1)\n",
    "comp_df = comp_df.reset_index(drop=True)"
   ]
  },
  {
   "cell_type": "markdown",
   "id": "0aefc6d2",
   "metadata": {},
   "source": [
    "#### Exibir o data frame com as comparações"
   ]
  },
  {
   "cell_type": "code",
   "execution_count": 8,
   "id": "9b6128a5",
   "metadata": {},
   "outputs": [
    {
     "data": {
      "text/html": [
       "<div>\n",
       "<style scoped>\n",
       "    .dataframe tbody tr th:only-of-type {\n",
       "        vertical-align: middle;\n",
       "    }\n",
       "\n",
       "    .dataframe tbody tr th {\n",
       "        vertical-align: top;\n",
       "    }\n",
       "\n",
       "    .dataframe thead th {\n",
       "        text-align: right;\n",
       "    }\n",
       "</style>\n",
       "<table border=\"1\" class=\"dataframe\">\n",
       "  <thead>\n",
       "    <tr style=\"text-align: right;\">\n",
       "      <th></th>\n",
       "      <th>Tamanho da Entrada</th>\n",
       "      <th>Insertion Sort Normal</th>\n",
       "      <th>Insertion Sort Binário</th>\n",
       "    </tr>\n",
       "  </thead>\n",
       "  <tbody>\n",
       "    <tr>\n",
       "      <th>0</th>\n",
       "      <td>3691.0</td>\n",
       "      <td>1.867306</td>\n",
       "      <td>0.015625</td>\n",
       "    </tr>\n",
       "    <tr>\n",
       "      <th>1</th>\n",
       "      <td>9727.0</td>\n",
       "      <td>13.269150</td>\n",
       "      <td>0.062500</td>\n",
       "    </tr>\n",
       "    <tr>\n",
       "      <th>2</th>\n",
       "      <td>1854.0</td>\n",
       "      <td>0.496706</td>\n",
       "      <td>0.015628</td>\n",
       "    </tr>\n",
       "    <tr>\n",
       "      <th>3</th>\n",
       "      <td>1572.0</td>\n",
       "      <td>0.351320</td>\n",
       "      <td>0.007998</td>\n",
       "    </tr>\n",
       "    <tr>\n",
       "      <th>4</th>\n",
       "      <td>5477.0</td>\n",
       "      <td>4.304765</td>\n",
       "      <td>0.046854</td>\n",
       "    </tr>\n",
       "    <tr>\n",
       "      <th>5</th>\n",
       "      <td>8134.0</td>\n",
       "      <td>9.380546</td>\n",
       "      <td>0.046898</td>\n",
       "    </tr>\n",
       "    <tr>\n",
       "      <th>6</th>\n",
       "      <td>6787.0</td>\n",
       "      <td>7.255649</td>\n",
       "      <td>0.046875</td>\n",
       "    </tr>\n",
       "    <tr>\n",
       "      <th>7</th>\n",
       "      <td>1105.0</td>\n",
       "      <td>0.171870</td>\n",
       "      <td>0.012123</td>\n",
       "    </tr>\n",
       "    <tr>\n",
       "      <th>8</th>\n",
       "      <td>2255.0</td>\n",
       "      <td>0.727988</td>\n",
       "      <td>0.008097</td>\n",
       "    </tr>\n",
       "    <tr>\n",
       "      <th>9</th>\n",
       "      <td>425.0</td>\n",
       "      <td>0.031256</td>\n",
       "      <td>0.000000</td>\n",
       "    </tr>\n",
       "  </tbody>\n",
       "</table>\n",
       "</div>"
      ],
      "text/plain": [
       "   Tamanho da Entrada  Insertion Sort Normal  Insertion Sort Binário\n",
       "0              3691.0               1.867306                0.015625\n",
       "1              9727.0              13.269150                0.062500\n",
       "2              1854.0               0.496706                0.015628\n",
       "3              1572.0               0.351320                0.007998\n",
       "4              5477.0               4.304765                0.046854\n",
       "5              8134.0               9.380546                0.046898\n",
       "6              6787.0               7.255649                0.046875\n",
       "7              1105.0               0.171870                0.012123\n",
       "8              2255.0               0.727988                0.008097\n",
       "9               425.0               0.031256                0.000000"
      ]
     },
     "metadata": {},
     "output_type": "display_data"
    }
   ],
   "source": [
    "display(comp_df)"
   ]
  },
  {
   "cell_type": "markdown",
   "id": "3968de8f",
   "metadata": {},
   "source": [
    "#### Ordenar os valores do data frame para representação dos valoros em ordem crescente em um gráfico"
   ]
  },
  {
   "cell_type": "code",
   "execution_count": 9,
   "id": "7e4098a0",
   "metadata": {},
   "outputs": [],
   "source": [
    "comp_df = comp_df.sort_values(by=['Tamanho da Entrada'])\n",
    "comp_df = comp_df.reset_index(drop=True)"
   ]
  },
  {
   "cell_type": "markdown",
   "id": "e9be44bf",
   "metadata": {},
   "source": [
    "#### Gerar o gráfico do data frame com os tempos de execução por tamanho de entrada"
   ]
  },
  {
   "cell_type": "code",
   "execution_count": 10,
   "id": "01247cd3",
   "metadata": {},
   "outputs": [
    {
     "data": {
      "text/plain": [
       "<AxesSubplot:xlabel='Tamanho da Entrada', ylabel='Tempo de Execução (em segundos)'>"
      ]
     },
     "execution_count": 10,
     "metadata": {},
     "output_type": "execute_result"
    },
    {
     "data": {
      "image/png": "[encoded data removed]",
      "text/plain": [
       "<Figure size 432x288 with 1 Axes>"
      ]
     },
     "metadata": {
      "needs_background": "light"
     },
     "output_type": "display_data"
    }
   ],
   "source": [
    "comp_df.plot(x = 'Tamanho da Entrada', xlabel = 'Tamanho da Entrada', ylabel = 'Tempo de Execução (em segundos)')"
   ]
  },
  {
   "cell_type": "markdown",
   "id": "84c9eef8",
   "metadata": {},
   "source": [
    "***\n",
    "## Conclusão\n",
    "<div style=\"text-align: justify\">O Insertion Sort é um dos algoritmos de ordenação de implementação mais simples, basicamente, a ordenação por inserção é eficiente para pequenos valores de dados, e para vetores que já estejam totalmente ordenados. É sabido que o Insertion Sort é Θ(n²).\n",
    "A busca binária é um algoritmo de busca bem performático em buscar um item numa lista ordenada. Ela funciona dividindo repetidamente pela metade uma parte da lista que deve conter o item, e comparar com o item na posição do meio se o item procurado deve estar em uma posição acima ou abaixo da sua, e repetindo até chegar no item buscado. Sabe-se que desde que a lista esteja ordenada a busca binária apresenta complexidade Θ(lg n).\n",
    "O Insertion Sort com busca binária é um algoritmo de ordenação como o Insertion Sort, mas em vez de usar a pesquisa linear para encontrar o local onde um elemento deve ser inserido, usamos a busca binária. Assim, reduzimos o limite superior da busca de Θ(N) para Θ(log N). Idealmente o Insertion Sort com busca binaria poderia ser dito como Θ(N(lgN)), porém por ter de fazer o shift, ou troca, entre os itens a ser ordenados do array, acaba não sendo Θ(N(lgN)), sendo apenas Θ(N²).\n",
    "Portanto, tanto o Insertion Sort quanto o Insertion Sort com busca binaria são Θ(N²), porém o Insertion Sort com busca binaria ainda é melhor, mesmo que não o suficiente para ser um Θ de ordem menor, mas ainda performa melhor que o Insertion Sort Padrão como pode-se notar nos testes.</div>"
   ]
  }
 ],
 "metadata": {
  "kernelspec": {
   "display_name": "Python 3 (ipykernel)",
   "language": "python",
   "name": "python3"
  },
  "language_info": {
   "codemirror_mode": {
    "name": "ipython",
    "version": 3
   },
   "file_extension": ".py",
   "mimetype": "text/x-python",
   "name": "python",
   "nbconvert_exporter": "python",
   "pygments_lexer": "ipython3",
   "version": "3.9.12"
  }
 },
 "nbformat": 4,
 "nbformat_minor": 5
}
